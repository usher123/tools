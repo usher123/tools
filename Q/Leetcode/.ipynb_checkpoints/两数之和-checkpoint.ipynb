{
 "cells": [
  {
   "cell_type": "markdown",
   "id": "1ef2df94",
   "metadata": {},
   "source": [
    "#### 给定一个整数数组 nums 和一个整数目标值 target，请你在该数组中找出 和为目标值 target 的那 两个 整数，并返回它们的数组下标。\n",
    "##### 你可以假设每种输入只会对应一个答案。但是，数组中同一个元素在答案里不能重复出现。你可以按任意顺序返回答案。\n",
    "\n",
    "示例 1：\n",
    "\n",
    "输入：nums = [2,7,11,15], target = 9\n",
    "输出：[0,1]\n",
    "\n",
    "示例 2：\n",
    "输入：nums = [3,2,4], target = 6\n",
    "输出：[1,2]\n",
    "\n",
    "示例 3：\n",
    "输入：nums = [3,3], target = 6\n",
    "输出：[0,1]"
   ]
  },
  {
   "cell_type": "code",
   "execution_count": 5,
   "id": "b7490e50",
   "metadata": {},
   "outputs": [],
   "source": [
    "from typing import List\n",
    "class Solution:\n",
    "    def twoSum(self, nums: List[int], target: int) -> List[int]:\n",
    "        n = len(nums)\n",
    "        mp = {}\n",
    "        for i in range(n):\n",
    "            m = target - nums[i]\n",
    "            if m in mp:\n",
    "                return[mp[m],i]\n",
    "            mp[nums[i]] = i\n",
    "        return[]"
   ]
  },
  {
   "cell_type": "code",
   "execution_count": 8,
   "id": "b4133101",
   "metadata": {},
   "outputs": [
    {
     "data": {
      "text/plain": [
       "[1, 5]"
      ]
     },
     "execution_count": 8,
     "metadata": {},
     "output_type": "execute_result"
    }
   ],
   "source": [
    "Solution().twoSum([2,1,4,5,6,3,7,2], target=4)"
   ]
  },
  {
   "cell_type": "markdown",
   "id": "88a8313b",
   "metadata": {},
   "source": [
    "与预生成一个离散集合再处理不同的是，\n",
    "mp = {}\n",
    "mp[nums[i]] = i\n",
    "\n",
    "该处理让遍历nums的同时，也在做预生成的处理,减少了遍历时间和占用空间。"
   ]
  },
  {
   "cell_type": "markdown",
   "id": "05fee211",
   "metadata": {},
   "source": [
    "in的实现\n",
    "m in mp 等价于\n",
    "\n",
    "mp.contain(m)\n",
    "\n",
    "是 contain 函数的语法糖，具体如何实现和效率，要看具体的数据类型，所有语言大同小异。\n",
    "\n",
    "list 和 tuple 是顺序查找 O(n) set 和 dict 是 O(1)。"
   ]
  },
  {
   "cell_type": "code",
   "execution_count": null,
   "id": "33941b0c",
   "metadata": {},
   "outputs": [],
   "source": []
  }
 ],
 "metadata": {
  "kernelspec": {
   "display_name": "Python 3 (ipykernel)",
   "language": "python",
   "name": "python3"
  },
  "language_info": {
   "codemirror_mode": {
    "name": "ipython",
    "version": 3
   },
   "file_extension": ".py",
   "mimetype": "text/x-python",
   "name": "python",
   "nbconvert_exporter": "python",
   "pygments_lexer": "ipython3",
   "version": "3.7.6rc1"
  }
 },
 "nbformat": 4,
 "nbformat_minor": 5
}
