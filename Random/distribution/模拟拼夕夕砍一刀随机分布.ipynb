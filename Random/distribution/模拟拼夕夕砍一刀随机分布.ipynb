{
 "cells": [
  {
   "cell_type": "code",
   "execution_count": 290,
   "id": "68d9320b",
   "metadata": {},
   "outputs": [],
   "source": [
    "import random\n",
    "import math"
   ]
  },
  {
   "cell_type": "code",
   "execution_count": 229,
   "id": "0aa83069",
   "metadata": {},
   "outputs": [],
   "source": [
    "def sun_pe_cut(sun: int, \n",
    "                pe: int, \n",
    "                cut: int=3) -> list:\n",
    "    \"\"\"\n",
    "    优先分配前面，通过cut限制每份资源分配上限\n",
    "    sun 总数\n",
    "    pe 分配个数\n",
    "     \"\"\"\n",
    "    lk = []\n",
    "    if pe > sun:\n",
    "        return []\n",
    "    while pe > 1:\n",
    "        if sun == pe:\n",
    "            lk.append(1)\n",
    "        else:\n",
    "            max_ = int((sun - pe) / cut) if sun - pe > cut else sun - pe\n",
    "            xj = random.randrange(1, max_) if max_!=1 else max_\n",
    "            lk.append(xj)\n",
    "            sun -= xj\n",
    "        pe -= 1\n",
    "    lk.append(sun)\n",
    "    lk.sort(reverse=True)\n",
    "    return lk"
   ]
  },
  {
   "cell_type": "markdown",
   "id": "8badf8c9",
   "metadata": {},
   "source": [
    "### 类似拼夕夕红包 ###\n",
    "50块红包，需要砍50刀情况下的随机分布"
   ]
  },
  {
   "cell_type": "code",
   "execution_count": 285,
   "id": "fdd5259e",
   "metadata": {},
   "outputs": [
    {
     "data": {
      "text/plain": [
       "[1116,\n",
       " 779,\n",
       " 687,\n",
       " 463,\n",
       " 409,\n",
       " 265,\n",
       " 257,\n",
       " 199,\n",
       " 163,\n",
       " 117,\n",
       " 111,\n",
       " 95,\n",
       " 66,\n",
       " 45,\n",
       " 41,\n",
       " 36,\n",
       " 29,\n",
       " 22,\n",
       " 18,\n",
       " 13,\n",
       " 9,\n",
       " 9,\n",
       " 5,\n",
       " 4,\n",
       " 3,\n",
       " 3,\n",
       " 2,\n",
       " 2,\n",
       " 2,\n",
       " 2,\n",
       " 2,\n",
       " 2,\n",
       " 2,\n",
       " 2,\n",
       " 2,\n",
       " 2,\n",
       " 2,\n",
       " 2,\n",
       " 1,\n",
       " 1,\n",
       " 1,\n",
       " 1,\n",
       " 1,\n",
       " 1,\n",
       " 1,\n",
       " 1,\n",
       " 1,\n",
       " 1,\n",
       " 1,\n",
       " 1]"
      ]
     },
     "execution_count": 285,
     "metadata": {},
     "output_type": "execute_result"
    }
   ],
   "source": [
    "sum_gold = 5000\n",
    "need_pe = 50\n",
    "sun_pe_cut(sum_gold,need_pe)"
   ]
  },
  {
   "cell_type": "markdown",
   "id": "295091df",
   "metadata": {},
   "source": [
    "### 第二种方法，会使得整个结果更加平滑 ###"
   ]
  },
  {
   "cell_type": "code",
   "execution_count": 293,
   "id": "6e841b58",
   "metadata": {},
   "outputs": [],
   "source": [
    "def sun_pe(sun, pe):\n",
    "    \"\"\"\n",
    "    随机分配金额, 整体均值相差不大，更平滑\n",
    "    sun 总数\n",
    "    pe 分配个数\n",
    "     \"\"\"\n",
    "    lk = []\n",
    "    while pe > 1:\n",
    "        avgp = math.floor(sun / pe)\n",
    "        while 1:\n",
    "            hg = avgp + random.randrange(1, avgp) * (-1 if pe % 2 else 1)\n",
    "            if sun - hg != 0:\n",
    "                break\n",
    "        lk.append(hg)\n",
    "        sun -= hg\n",
    "        pe -= 1\n",
    "    lk.append(sun)\n",
    "    lk.sort(reverse=True)\n",
    "    return lk"
   ]
  },
  {
   "cell_type": "code",
   "execution_count": 295,
   "id": "7fb37341",
   "metadata": {},
   "outputs": [
    {
     "data": {
      "text/plain": [
       "[210,\n",
       " 206,\n",
       " 204,\n",
       " 194,\n",
       " 189,\n",
       " 187,\n",
       " 185,\n",
       " 178,\n",
       " 173,\n",
       " 165,\n",
       " 163,\n",
       " 159,\n",
       " 148,\n",
       " 145,\n",
       " 143,\n",
       " 141,\n",
       " 137,\n",
       " 132,\n",
       " 129,\n",
       " 126,\n",
       " 125,\n",
       " 123,\n",
       " 119,\n",
       " 118,\n",
       " 117,\n",
       " 115,\n",
       " 93,\n",
       " 86,\n",
       " 84,\n",
       " 83,\n",
       " 80,\n",
       " 75,\n",
       " 63,\n",
       " 53,\n",
       " 52,\n",
       " 41,\n",
       " 41,\n",
       " 35,\n",
       " 32,\n",
       " 30,\n",
       " 29,\n",
       " 20,\n",
       " 14,\n",
       " 14,\n",
       " 12,\n",
       " 8,\n",
       " 8,\n",
       " 7,\n",
       " 6,\n",
       " 3]"
      ]
     },
     "execution_count": 295,
     "metadata": {},
     "output_type": "execute_result"
    }
   ],
   "source": [
    "sun_pe(sum_gold, need_pe)"
   ]
  },
  {
   "cell_type": "code",
   "execution_count": null,
   "id": "872ddbd0",
   "metadata": {},
   "outputs": [],
   "source": []
  }
 ],
 "metadata": {
  "kernelspec": {
   "display_name": "Python 3 (ipykernel)",
   "language": "python",
   "name": "python3"
  },
  "language_info": {
   "codemirror_mode": {
    "name": "ipython",
    "version": 3
   },
   "file_extension": ".py",
   "mimetype": "text/x-python",
   "name": "python",
   "nbconvert_exporter": "python",
   "pygments_lexer": "ipython3",
   "version": "3.7.6rc1"
  }
 },
 "nbformat": 4,
 "nbformat_minor": 5
}
